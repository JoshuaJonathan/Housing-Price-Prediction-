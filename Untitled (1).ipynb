{
 "cells": [
  {
   "cell_type": "code",
   "execution_count": 1,
   "id": "a0510431",
   "metadata": {},
   "outputs": [],
   "source": [
    "x = open('games.txt', 'a')"
   ]
  },
  {
   "cell_type": "markdown",
   "id": "30c15a68",
   "metadata": {},
   "source": [
    "B"
   ]
  },
  {
   "cell_type": "code",
   "execution_count": 2,
   "id": "a5420ffd",
   "metadata": {},
   "outputs": [
    {
     "name": "stdout",
     "output_type": "stream",
     "text": [
      "False\n"
     ]
    }
   ],
   "source": [
    "m = True\n",
    "n = False\n",
    "print(not m)"
   ]
  },
  {
   "cell_type": "code",
   "execution_count": 3,
   "id": "368c504d",
   "metadata": {},
   "outputs": [
    {
     "name": "stdout",
     "output_type": "stream",
     "text": [
      "[-10, -4, 0, 6, 8]\n"
     ]
    }
   ],
   "source": [
    "m = [-5, -2, 0, 3, 4]\n",
    "print([n*2 for n in m])"
   ]
  },
  {
   "cell_type": "code",
   "execution_count": 4,
   "id": "3b843286",
   "metadata": {},
   "outputs": [
    {
     "data": {
      "text/plain": [
       "36.333333333333336"
      ]
     },
     "execution_count": 4,
     "metadata": {},
     "output_type": "execute_result"
    }
   ],
   "source": [
    "7 * 4 + 9 - 2 / 3"
   ]
  },
  {
   "cell_type": "code",
   "execution_count": 5,
   "id": "251d3b49",
   "metadata": {},
   "outputs": [
    {
     "ename": "SyntaxError",
     "evalue": "invalid character '“' (U+201C) (Temp/ipykernel_6420/3595337767.py, line 1)",
     "output_type": "error",
     "traceback": [
      "\u001b[1;36m  File \u001b[1;32m\"C:\\Users\\AnandRaj\\AppData\\Local\\Temp/ipykernel_6420/3595337767.py\"\u001b[1;36m, line \u001b[1;32m1\u001b[0m\n\u001b[1;33m    a = input(“Enter an integer”).\u001b[0m\n\u001b[1;37m              ^\u001b[0m\n\u001b[1;31mSyntaxError\u001b[0m\u001b[1;31m:\u001b[0m invalid character '“' (U+201C)\n"
     ]
    }
   ],
   "source": [
    "a = input(“Enter an integer”)."
   ]
  },
  {
   "cell_type": "code",
   "execution_count": 6,
   "id": "7765007c",
   "metadata": {},
   "outputs": [
    {
     "ename": "IndentationError",
     "evalue": "expected an indented block (Temp/ipykernel_6420/1133628260.py, line 2)",
     "output_type": "error",
     "traceback": [
      "\u001b[1;36m  File \u001b[1;32m\"C:\\Users\\AnandRaj\\AppData\\Local\\Temp/ipykernel_6420/1133628260.py\"\u001b[1;36m, line \u001b[1;32m2\u001b[0m\n\u001b[1;33m    print('Music')\u001b[0m\n\u001b[1;37m    ^\u001b[0m\n\u001b[1;31mIndentationError\u001b[0m\u001b[1;31m:\u001b[0m expected an indented block\n"
     ]
    }
   ],
   "source": [
    "for i in range(3, 7):\n",
    "print('Music')"
   ]
  },
  {
   "cell_type": "code",
   "execution_count": 7,
   "id": "0f166f5c",
   "metadata": {},
   "outputs": [
    {
     "name": "stdout",
     "output_type": "stream",
     "text": [
      "JulyDecember\n"
     ]
    }
   ],
   "source": [
    "m = ['July', 'September', 'December']\n",
    "n = m[0] + m[2]\n",
    "print(n)"
   ]
  },
  {
   "cell_type": "code",
   "execution_count": 8,
   "id": "db9a0e77",
   "metadata": {},
   "outputs": [
    {
     "ename": "IndentationError",
     "evalue": "expected an indented block (Temp/ipykernel_6420/3572113165.py, line 2)",
     "output_type": "error",
     "traceback": [
      "\u001b[1;36m  File \u001b[1;32m\"C:\\Users\\AnandRaj\\AppData\\Local\\Temp/ipykernel_6420/3572113165.py\"\u001b[1;36m, line \u001b[1;32m2\u001b[0m\n\u001b[1;33m    return m * n\u001b[0m\n\u001b[1;37m    ^\u001b[0m\n\u001b[1;31mIndentationError\u001b[0m\u001b[1;31m:\u001b[0m expected an indented block\n"
     ]
    }
   ],
   "source": [
    "def abc(m, n) :\n",
    "return m * n\n",
    "print(abc(7, 3))"
   ]
  },
  {
   "cell_type": "code",
   "execution_count": 9,
   "id": "836eda84",
   "metadata": {},
   "outputs": [
    {
     "name": "stdout",
     "output_type": "stream",
     "text": [
      "[7, 8, 9]\n"
     ]
    }
   ],
   "source": [
    "m = list(range(7,10))\n",
    "print(m)"
   ]
  },
  {
   "cell_type": "code",
   "execution_count": 10,
   "id": "6995b8f6",
   "metadata": {},
   "outputs": [
    {
     "name": "stdout",
     "output_type": "stream",
     "text": [
      "1\n"
     ]
    }
   ],
   "source": [
    "import pandas as pd\n",
    "import numpy as np\n",
    "s = pd.Series(np.random.randn(4))\n",
    "print(s.ndim)\n",
    "\n"
   ]
  },
  {
   "cell_type": "code",
   "execution_count": 11,
   "id": "1988e99a",
   "metadata": {},
   "outputs": [
    {
     "ename": "IndentationError",
     "evalue": "expected an indented block (Temp/ipykernel_6420/2644401866.py, line 3)",
     "output_type": "error",
     "traceback": [
      "\u001b[1;36m  File \u001b[1;32m\"C:\\Users\\AnandRaj\\AppData\\Local\\Temp/ipykernel_6420/2644401866.py\"\u001b[1;36m, line \u001b[1;32m3\u001b[0m\n\u001b[1;33m    print(25)\u001b[0m\n\u001b[1;37m    ^\u001b[0m\n\u001b[1;31mIndentationError\u001b[0m\u001b[1;31m:\u001b[0m expected an indented block\n"
     ]
    }
   ],
   "source": [
    "m = 50\n",
    "if m > 50:\n",
    "print(25)\n",
    "else:\n",
    "print(75)"
   ]
  },
  {
   "cell_type": "code",
   "execution_count": 12,
   "id": "51515763",
   "metadata": {},
   "outputs": [
    {
     "name": "stdout",
     "output_type": "stream",
     "text": [
      "98\n"
     ]
    }
   ],
   "source": [
    "m = [75, 23, 64]\n",
    "n = m[0] + m[1]\n",
    "print(n)"
   ]
  },
  {
   "cell_type": "code",
   "execution_count": 13,
   "id": "afa7c8e8",
   "metadata": {},
   "outputs": [
    {
     "name": "stdout",
     "output_type": "stream",
     "text": [
      "dict_values(['Music', 'Games'])\n"
     ]
    }
   ],
   "source": [
    "m = {'Listen' :'Music', 'Play' : 'Games'}\n",
    "print(m.values())"
   ]
  },
  {
   "cell_type": "code",
   "execution_count": 14,
   "id": "2de47d9c",
   "metadata": {},
   "outputs": [
    {
     "name": "stdout",
     "output_type": "stream",
     "text": [
      "True\n"
     ]
    }
   ],
   "source": [
    "m = 92\n",
    "n = 35\n",
    "print(m > n)"
   ]
  },
  {
   "cell_type": "code",
   "execution_count": 15,
   "id": "991bd1f4",
   "metadata": {},
   "outputs": [
    {
     "name": "stdout",
     "output_type": "stream",
     "text": [
      "5\n"
     ]
    }
   ],
   "source": [
    "m = 28\n",
    "n = 5\n",
    "print(m // n)"
   ]
  },
  {
   "cell_type": "code",
   "execution_count": 16,
   "id": "752b9253",
   "metadata": {},
   "outputs": [
    {
     "ename": "IndentationError",
     "evalue": "expected an indented block (Temp/ipykernel_6420/4118181698.py, line 3)",
     "output_type": "error",
     "traceback": [
      "\u001b[1;36m  File \u001b[1;32m\"C:\\Users\\AnandRaj\\AppData\\Local\\Temp/ipykernel_6420/4118181698.py\"\u001b[1;36m, line \u001b[1;32m3\u001b[0m\n\u001b[1;33m    m.append(n*3)\u001b[0m\n\u001b[1;37m    ^\u001b[0m\n\u001b[1;31mIndentationError\u001b[0m\u001b[1;31m:\u001b[0m expected an indented block\n"
     ]
    }
   ],
   "source": [
    "m = []\n",
    "for n in range(6):\n",
    "m.append(n*3)\n",
    "print(m)"
   ]
  },
  {
   "cell_type": "code",
   "execution_count": 17,
   "id": "b8cecaca",
   "metadata": {},
   "outputs": [
    {
     "name": "stdout",
     "output_type": "stream",
     "text": [
      "120\n"
     ]
    }
   ],
   "source": [
    "m = 20\n",
    "n = 6\n",
    "m = m * n\n",
    "print(m)"
   ]
  },
  {
   "cell_type": "code",
   "execution_count": 18,
   "id": "a7ffdee4",
   "metadata": {},
   "outputs": [
    {
     "name": "stdout",
     "output_type": "stream",
     "text": [
      "[('Listen', 'Music'), ('Play', 'Games')]\n"
     ]
    }
   ],
   "source": [
    "m = {'Listen' :'Music', 'Play' : 'Games'}\n",
    "n = list(m.items())\n",
    "print(n)"
   ]
  },
  {
   "cell_type": "code",
   "execution_count": 19,
   "id": "4d936504",
   "metadata": {},
   "outputs": [
    {
     "name": "stdout",
     "output_type": "stream",
     "text": [
      "False\n"
     ]
    }
   ],
   "source": [
    "m = [15, 65, 105]\n",
    "n = 5 in m\n",
    "print(n)"
   ]
  },
  {
   "cell_type": "code",
   "execution_count": 20,
   "id": "59408d32",
   "metadata": {},
   "outputs": [
    {
     "name": "stdout",
     "output_type": "stream",
     "text": [
      "4001\n"
     ]
    }
   ],
   "source": [
    "m = '40' + '01'\n",
    "print(m)"
   ]
  },
  {
   "cell_type": "code",
   "execution_count": 21,
   "id": "e6c177cf",
   "metadata": {},
   "outputs": [],
   "source": [
    "m = {'Listen' :'Music', 'Play' : 'Games'}"
   ]
  },
  {
   "cell_type": "code",
   "execution_count": 22,
   "id": "7534df4f",
   "metadata": {},
   "outputs": [
    {
     "name": "stdout",
     "output_type": "stream",
     "text": [
      "99\n"
     ]
    }
   ],
   "source": [
    "m = [50, 25, 65, 0, 99]\n",
    "n = max(m)\n",
    "print(n)"
   ]
  },
  {
   "cell_type": "code",
   "execution_count": 23,
   "id": "63329976",
   "metadata": {},
   "outputs": [
    {
     "ename": "IndentationError",
     "evalue": "expected an indented block (Temp/ipykernel_6420/2347713451.py, line 3)",
     "output_type": "error",
     "traceback": [
      "\u001b[1;36m  File \u001b[1;32m\"C:\\Users\\AnandRaj\\AppData\\Local\\Temp/ipykernel_6420/2347713451.py\"\u001b[1;36m, line \u001b[1;32m3\u001b[0m\n\u001b[1;33m    print(n, o, end=' ')\u001b[0m\n\u001b[1;37m    ^\u001b[0m\n\u001b[1;31mIndentationError\u001b[0m\u001b[1;31m:\u001b[0m expected an indented block\n"
     ]
    }
   ],
   "source": [
    "m = {45 : 75, 55 : 85}\n",
    "for n, o in m.items():\n",
    "print(n, o, end=' ')"
   ]
  },
  {
   "cell_type": "code",
   "execution_count": 24,
   "id": "0cd8d2c0",
   "metadata": {},
   "outputs": [
    {
     "ename": "IndentationError",
     "evalue": "expected an indented block (Temp/ipykernel_6420/4005515799.py, line 2)",
     "output_type": "error",
     "traceback": [
      "\u001b[1;36m  File \u001b[1;32m\"C:\\Users\\AnandRaj\\AppData\\Local\\Temp/ipykernel_6420/4005515799.py\"\u001b[1;36m, line \u001b[1;32m2\u001b[0m\n\u001b[1;33m    print(m,)\u001b[0m\n\u001b[1;37m    ^\u001b[0m\n\u001b[1;31mIndentationError\u001b[0m\u001b[1;31m:\u001b[0m expected an indented block\n"
     ]
    }
   ],
   "source": [
    "for m in range(6,9):\n",
    "print(m,)\n",
    "if m == 8:\n",
    "break"
   ]
  },
  {
   "cell_type": "code",
   "execution_count": 25,
   "id": "d624d184",
   "metadata": {},
   "outputs": [],
   "source": [
    "m = ['July', 'September', 'December']"
   ]
  },
  {
   "cell_type": "code",
   "execution_count": 26,
   "id": "a5ddf3dd",
   "metadata": {},
   "outputs": [
    {
     "name": "stdout",
     "output_type": "stream",
     "text": [
      "3470\n"
     ]
    }
   ],
   "source": [
    "m = [25, 34, 70, 63]\n",
    "n = str(m[1]) +str(m[2])\n",
    "print(n)"
   ]
  },
  {
   "cell_type": "code",
   "execution_count": 27,
   "id": "a589b36f",
   "metadata": {},
   "outputs": [
    {
     "name": "stdout",
     "output_type": "stream",
     "text": [
      "6 5.0 4.0\n"
     ]
    }
   ],
   "source": [
    "m = 20 * 10 // 30\n",
    "n = 20 * 10.0 // 40\n",
    "o = 20.0 * 10 / 50\n",
    "print(m, n, o)"
   ]
  },
  {
   "cell_type": "code",
   "execution_count": 28,
   "id": "639566de",
   "metadata": {},
   "outputs": [
    {
     "name": "stdout",
     "output_type": "stream",
     "text": [
      "me\n"
     ]
    }
   ],
   "source": [
    "m = 'Play Games'\n",
    "n = m[7:9]\n",
    "print(n)"
   ]
  },
  {
   "cell_type": "code",
   "execution_count": 29,
   "id": "f7e14226",
   "metadata": {},
   "outputs": [
    {
     "name": "stdout",
     "output_type": "stream",
     "text": [
      "False\n"
     ]
    }
   ],
   "source": [
    "m = False\n",
    "n = True\n",
    "o = False\n",
    "print(m and n and o)"
   ]
  },
  {
   "cell_type": "code",
   "execution_count": 30,
   "id": "57cdc5f4",
   "metadata": {},
   "outputs": [],
   "source": [
    "m = (41, 54, 23, 68)"
   ]
  },
  {
   "cell_type": "code",
   "execution_count": 31,
   "id": "4c6b025b",
   "metadata": {},
   "outputs": [
    {
     "name": "stdout",
     "output_type": "stream",
     "text": [
      "True\n"
     ]
    }
   ],
   "source": [
    "m = True\n",
    "n = False\n",
    "print(m or n)"
   ]
  },
  {
   "cell_type": "code",
   "execution_count": 32,
   "id": "93019a4a",
   "metadata": {},
   "outputs": [
    {
     "ename": "TypeError",
     "evalue": "funct() got multiple values for argument 'a'",
     "output_type": "error",
     "traceback": [
      "\u001b[1;31m---------------------------------------------------------------------------\u001b[0m",
      "\u001b[1;31mTypeError\u001b[0m                                 Traceback (most recent call last)",
      "\u001b[1;32m~\\AppData\\Local\\Temp/ipykernel_6420/2439128838.py\u001b[0m in \u001b[0;36m<module>\u001b[1;34m\u001b[0m\n\u001b[0;32m      3\u001b[0m     \u001b[1;32mreturn\u001b[0m \u001b[0ma\u001b[0m\u001b[1;33m\u001b[0m\u001b[1;33m\u001b[0m\u001b[0m\n\u001b[0;32m      4\u001b[0m \u001b[1;33m\u001b[0m\u001b[0m\n\u001b[1;32m----> 5\u001b[1;33m \u001b[0mfunct\u001b[0m\u001b[1;33m(\u001b[0m\u001b[1;36m1\u001b[0m\u001b[1;33m,\u001b[0m\u001b[0ma\u001b[0m\u001b[1;33m=\u001b[0m\u001b[1;36m2\u001b[0m\u001b[1;33m)\u001b[0m\u001b[1;33m\u001b[0m\u001b[1;33m\u001b[0m\u001b[0m\n\u001b[0m",
      "\u001b[1;31mTypeError\u001b[0m: funct() got multiple values for argument 'a'"
     ]
    }
   ],
   "source": [
    "def funct(a,b):\n",
    "\n",
    "    return a\n",
    "\n",
    "funct(1,a=2)"
   ]
  },
  {
   "cell_type": "code",
   "execution_count": 33,
   "id": "f4a1a42e",
   "metadata": {},
   "outputs": [
    {
     "ename": "KeyError",
     "evalue": "'Music'",
     "output_type": "error",
     "traceback": [
      "\u001b[1;31m---------------------------------------------------------------------------\u001b[0m",
      "\u001b[1;31mKeyError\u001b[0m                                  Traceback (most recent call last)",
      "\u001b[1;32m~\\AppData\\Local\\Temp/ipykernel_6420/1280876587.py\u001b[0m in \u001b[0;36m<module>\u001b[1;34m\u001b[0m\n\u001b[0;32m      1\u001b[0m \u001b[0mm\u001b[0m \u001b[1;33m=\u001b[0m \u001b[1;33m{\u001b[0m\u001b[1;34m'Listen'\u001b[0m \u001b[1;33m:\u001b[0m\u001b[1;34m'Music'\u001b[0m\u001b[1;33m,\u001b[0m \u001b[1;34m'Play'\u001b[0m \u001b[1;33m:\u001b[0m \u001b[1;34m'Games'\u001b[0m\u001b[1;33m}\u001b[0m\u001b[1;33m\u001b[0m\u001b[1;33m\u001b[0m\u001b[0m\n\u001b[1;32m----> 2\u001b[1;33m \u001b[0mn\u001b[0m \u001b[1;33m=\u001b[0m \u001b[0mm\u001b[0m\u001b[1;33m[\u001b[0m\u001b[1;34m'Music'\u001b[0m\u001b[1;33m]\u001b[0m\u001b[1;33m\u001b[0m\u001b[1;33m\u001b[0m\u001b[0m\n\u001b[0m\u001b[0;32m      3\u001b[0m \u001b[0mprint\u001b[0m\u001b[1;33m(\u001b[0m\u001b[0mn\u001b[0m\u001b[1;33m)\u001b[0m\u001b[1;33m\u001b[0m\u001b[1;33m\u001b[0m\u001b[0m\n",
      "\u001b[1;31mKeyError\u001b[0m: 'Music'"
     ]
    }
   ],
   "source": [
    "m = {'Listen' :'Music', 'Play' : 'Games'}\n",
    "n = m['Music']\n",
    "print(n)"
   ]
  },
  {
   "cell_type": "code",
   "execution_count": 34,
   "id": "73d5a8eb",
   "metadata": {},
   "outputs": [],
   "source": [
    "m = {'A', 'F', 'R', 'Y'}"
   ]
  },
  {
   "cell_type": "code",
   "execution_count": 35,
   "id": "c1d54b62",
   "metadata": {},
   "outputs": [
    {
     "name": "stdout",
     "output_type": "stream",
     "text": [
      "[4, 8, 4, 8, 4, 8]\n"
     ]
    }
   ],
   "source": [
    "m = [4, 8]\n",
    "print(m * 3)"
   ]
  },
  {
   "cell_type": "code",
   "execution_count": 36,
   "id": "00b33206",
   "metadata": {},
   "outputs": [
    {
     "ename": "IndentationError",
     "evalue": "expected an indented block (Temp/ipykernel_6420/2297755267.py, line 2)",
     "output_type": "error",
     "traceback": [
      "\u001b[1;36m  File \u001b[1;32m\"C:\\Users\\AnandRaj\\AppData\\Local\\Temp/ipykernel_6420/2297755267.py\"\u001b[1;36m, line \u001b[1;32m2\u001b[0m\n\u001b[1;33m    print(m,)\u001b[0m\n\u001b[1;37m    ^\u001b[0m\n\u001b[1;31mIndentationError\u001b[0m\u001b[1;31m:\u001b[0m expected an indented block\n"
     ]
    }
   ],
   "source": [
    "for m in range(6,9):\n",
    "print(m,)"
   ]
  },
  {
   "cell_type": "code",
   "execution_count": 37,
   "id": "54a416ea",
   "metadata": {},
   "outputs": [
    {
     "name": "stdout",
     "output_type": "stream",
     "text": [
      "85\n"
     ]
    }
   ],
   "source": [
    "m = 17\n",
    "n = 5\n",
    "o = m * n\n",
    "print(o)"
   ]
  },
  {
   "cell_type": "code",
   "execution_count": 38,
   "id": "69181752",
   "metadata": {},
   "outputs": [
    {
     "name": "stdout",
     "output_type": "stream",
     "text": [
      "6\n"
     ]
    }
   ],
   "source": [
    "m = 90\n",
    "n = 7\n",
    "print(m % n)"
   ]
  },
  {
   "cell_type": "code",
   "execution_count": 39,
   "id": "0ce8e3d8",
   "metadata": {},
   "outputs": [
    {
     "name": "stdout",
     "output_type": "stream",
     "text": [
      "67\n"
     ]
    }
   ],
   "source": [
    "m = 44\n",
    "n = 23\n",
    "m = m + n\n",
    "print(m)\n",
    "\n"
   ]
  },
  {
   "cell_type": "code",
   "execution_count": 40,
   "id": "d62493c0",
   "metadata": {},
   "outputs": [
    {
     "name": "stdout",
     "output_type": "stream",
     "text": [
      "True\n"
     ]
    }
   ],
   "source": [
    "m = False\n",
    "print(m or not m)"
   ]
  },
  {
   "cell_type": "code",
   "execution_count": 41,
   "id": "d1e08126",
   "metadata": {},
   "outputs": [
    {
     "ename": "IndentationError",
     "evalue": "expected an indented block (Temp/ipykernel_6420/811540167.py, line 3)",
     "output_type": "error",
     "traceback": [
      "\u001b[1;36m  File \u001b[1;32m\"C:\\Users\\AnandRaj\\AppData\\Local\\Temp/ipykernel_6420/811540167.py\"\u001b[1;36m, line \u001b[1;32m3\u001b[0m\n\u001b[1;33m    print(100)\u001b[0m\n\u001b[1;37m    ^\u001b[0m\n\u001b[1;31mIndentationError\u001b[0m\u001b[1;31m:\u001b[0m expected an indented block\n"
     ]
    }
   ],
   "source": [
    "m = 36\n",
    "if m > 19:\n",
    "print(100)"
   ]
  },
  {
   "cell_type": "code",
   "execution_count": 42,
   "id": "60a35450",
   "metadata": {},
   "outputs": [],
   "source": [
    "m = True"
   ]
  },
  {
   "cell_type": "code",
   "execution_count": 43,
   "id": "141d8d85",
   "metadata": {},
   "outputs": [
    {
     "ename": "IndentationError",
     "evalue": "expected an indented block (Temp/ipykernel_6420/2407193797.py, line 2)",
     "output_type": "error",
     "traceback": [
      "\u001b[1;36m  File \u001b[1;32m\"C:\\Users\\AnandRaj\\AppData\\Local\\Temp/ipykernel_6420/2407193797.py\"\u001b[1;36m, line \u001b[1;32m2\u001b[0m\n\u001b[1;33m    print(m,)\u001b[0m\n\u001b[1;37m    ^\u001b[0m\n\u001b[1;31mIndentationError\u001b[0m\u001b[1;31m:\u001b[0m expected an indented block\n"
     ]
    }
   ],
   "source": [
    "for m in range(2,9,3):\n",
    "print(m,)"
   ]
  },
  {
   "cell_type": "code",
   "execution_count": 44,
   "id": "53fb5e99",
   "metadata": {},
   "outputs": [
    {
     "name": "stdout",
     "output_type": "stream",
     "text": [
      "0\n"
     ]
    }
   ],
   "source": [
    "m = min(50, 25, 65, 0, 99)\n",
    "print(m)"
   ]
  },
  {
   "cell_type": "code",
   "execution_count": 45,
   "id": "709b1e87",
   "metadata": {},
   "outputs": [
    {
     "name": "stdout",
     "output_type": "stream",
     "text": [
      "88\n"
     ]
    }
   ],
   "source": [
    "m = 99\n",
    "n = 11\n",
    "m = m - n\n",
    "print(m)"
   ]
  },
  {
   "cell_type": "code",
   "execution_count": 46,
   "id": "282f25a9",
   "metadata": {},
   "outputs": [
    {
     "name": "stdout",
     "output_type": "stream",
     "text": [
      "dict_keys(['Listen', 'Play'])\n"
     ]
    }
   ],
   "source": [
    "m = {'Listen' :'Music', 'Play' : 'Games'}\n",
    "print(m.keys())"
   ]
  },
  {
   "cell_type": "code",
   "execution_count": null,
   "id": "af68691d",
   "metadata": {},
   "outputs": [],
   "source": []
  }
 ],
 "metadata": {
  "kernelspec": {
   "display_name": "Python 3 (ipykernel)",
   "language": "python",
   "name": "python3"
  },
  "language_info": {
   "codemirror_mode": {
    "name": "ipython",
    "version": 3
   },
   "file_extension": ".py",
   "mimetype": "text/x-python",
   "name": "python",
   "nbconvert_exporter": "python",
   "pygments_lexer": "ipython3",
   "version": "3.9.7"
  }
 },
 "nbformat": 4,
 "nbformat_minor": 5
}
